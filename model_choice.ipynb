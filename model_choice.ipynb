{
 "cells": [
  {
   "cell_type": "code",
   "execution_count": 1,
   "metadata": {},
   "outputs": [],
   "source": [
    "# Previously read a readme about game rule and turn simulation used here.\n",
    "# In this file I will use the information from player, challenge and simulation turn result \n",
    "# just as initial data to choose and train model\n",
    "# So here we\n",
    "# - Import and explore data\n",
    "# - Get its ready for training\n",
    "# - Explain criterion choice\n",
    "# - Create pipeline to choose model\n",
    "# - Make a gridsearch for best parameters\n",
    "# - Train and save final model"
   ]
  },
  {
   "cell_type": "code",
   "execution_count": 2,
   "metadata": {},
   "outputs": [],
   "source": [
    "# Importing the Libraries\n",
    "import pandas as pd\n",
    "import numpy as np\n",
    "import matplotlib.pyplot as plt \n",
    "import warnings\n",
    "from sklearn.model_selection import train_test_split\n",
    "import seaborn as sns\n",
    "from sklearn.pipeline import Pipeline\n",
    "from xgboost import XGBClassifier\n",
    "from catboost import CatBoostClassifier, Pool, metrics, cv\n",
    "from sklearn.metrics import classification_report, f1_score\n",
    "from sklearn.preprocessing import StandardScaler\n",
    "from sklearn.model_selection import GridSearchCV\n",
    "from sklearn.linear_model import LogisticRegressionCV\n",
    "from sklearn.neighbors import KNeighborsClassifier\n",
    "from sklearn.ensemble import RandomForestClassifier\n",
    "from sklearn.decomposition import PCA\n",
    "from sklearn.metrics import PrecisionRecallDisplay\n",
    "from sklearn.metrics import RocCurveDisplay\n",
    "from sklearn.utils import class_weight\n",
    "\n",
    "#\n",
    "warnings.simplefilter(action='ignore', category=FutureWarning)"
   ]
  },
  {
   "cell_type": "code",
   "execution_count": 3,
   "metadata": {},
   "outputs": [],
   "source": [
    "# Importing the self-written modules\n",
    "from modules.data_simulation import InitialData\n",
    "\n",
    "# Get a dataset with some combination of player cards and choosed challenge card with all \n",
    "# characteeristics and simulated answer if trying this challenge worth it or not.\n",
    "# For details about simulation - module data_simulation - Turn - simulate_turn\n",
    "data = InitialData()\n",
    "turns = data.define_turns(8000, if_target=True)"
   ]
  },
  {
   "cell_type": "code",
   "execution_count": 4,
   "metadata": {},
   "outputs": [
    {
     "name": "stdout",
     "output_type": "stream",
     "text": [
      "<class 'pandas.core.frame.DataFrame'>\n",
      "RangeIndex: 8000 entries, 0 to 7999\n",
      "Data columns (total 17 columns):\n",
      " #   Column               Non-Null Count  Dtype \n",
      "---  ------               --------------  ----- \n",
      " 0   Игрок                8000 non-null   int64 \n",
      " 1   Происхождение        8000 non-null   object\n",
      " 2   Руна_1               8000 non-null   object\n",
      " 3   Руна_2               8000 non-null   object\n",
      " 4   Стремление           8000 non-null   object\n",
      " 5   Опция                8000 non-null   object\n",
      " 6   Судьба               8000 non-null   object\n",
      " 7   Цель_1               8000 non-null   object\n",
      " 8   Цель_2               8000 non-null   object\n",
      " 9   Цель_3               8000 non-null   object\n",
      " 10  Опыт                 8000 non-null   int64 \n",
      " 11  Способность          8000 non-null   object\n",
      " 12  Испытание            8000 non-null   object\n",
      " 13  Основная руна        8000 non-null   object\n",
      " 14  Дополнительная руна  8000 non-null   object\n",
      " 15  Сложность            8000 non-null   int64 \n",
      " 16  Стоит ли пробовать   8000 non-null   int64 \n",
      "dtypes: int64(4), object(13)\n",
      "memory usage: 1.0+ MB\n"
     ]
    }
   ],
   "source": [
    "# Main information about features. Happily don't have missing values\n",
    "turns.info()"
   ]
  },
  {
   "cell_type": "code",
   "execution_count": 5,
   "metadata": {},
   "outputs": [
    {
     "data": {
      "text/html": [
       "<div>\n",
       "<style scoped>\n",
       "    .dataframe tbody tr th:only-of-type {\n",
       "        vertical-align: middle;\n",
       "    }\n",
       "\n",
       "    .dataframe tbody tr th {\n",
       "        vertical-align: top;\n",
       "    }\n",
       "\n",
       "    .dataframe thead th {\n",
       "        text-align: right;\n",
       "    }\n",
       "</style>\n",
       "<table border=\"1\" class=\"dataframe\">\n",
       "  <thead>\n",
       "    <tr style=\"text-align: right;\">\n",
       "      <th></th>\n",
       "      <th>Игрок</th>\n",
       "      <th>Происхождение</th>\n",
       "      <th>Руна_1</th>\n",
       "      <th>Руна_2</th>\n",
       "      <th>Стремление</th>\n",
       "      <th>Опция</th>\n",
       "      <th>Судьба</th>\n",
       "      <th>Цель_1</th>\n",
       "      <th>Цель_2</th>\n",
       "      <th>Цель_3</th>\n",
       "      <th>Опыт</th>\n",
       "      <th>Способность</th>\n",
       "      <th>Испытание</th>\n",
       "      <th>Основная руна</th>\n",
       "      <th>Дополнительная руна</th>\n",
       "      <th>Сложность</th>\n",
       "      <th>Стоит ли пробовать</th>\n",
       "    </tr>\n",
       "  </thead>\n",
       "  <tbody>\n",
       "    <tr>\n",
       "      <th>0</th>\n",
       "      <td>12037</td>\n",
       "      <td>Фермер</td>\n",
       "      <td>Сила</td>\n",
       "      <td>Мудрость</td>\n",
       "      <td>Ученик мастера</td>\n",
       "      <td>Сила</td>\n",
       "      <td>Дитя природы</td>\n",
       "      <td>Мудрость</td>\n",
       "      <td>Сила</td>\n",
       "      <td>Обаяние</td>\n",
       "      <td>1</td>\n",
       "      <td>Сила</td>\n",
       "      <td>Защитить свою семью</td>\n",
       "      <td>Телосложение</td>\n",
       "      <td>Обаяние</td>\n",
       "      <td>4</td>\n",
       "      <td>0</td>\n",
       "    </tr>\n",
       "    <tr>\n",
       "      <th>1</th>\n",
       "      <td>11238</td>\n",
       "      <td>Новобранец</td>\n",
       "      <td>Сила</td>\n",
       "      <td>Телосложение</td>\n",
       "      <td>Рожденный в рубашке</td>\n",
       "      <td>Нет</td>\n",
       "      <td>Драконорожденный</td>\n",
       "      <td>Телосложение</td>\n",
       "      <td>Обаяние</td>\n",
       "      <td>Нет</td>\n",
       "      <td>2</td>\n",
       "      <td>Нет</td>\n",
       "      <td>Изгнать призрака</td>\n",
       "      <td>Мудрость</td>\n",
       "      <td>Обаяние</td>\n",
       "      <td>3</td>\n",
       "      <td>0</td>\n",
       "    </tr>\n",
       "    <tr>\n",
       "      <th>2</th>\n",
       "      <td>925</td>\n",
       "      <td>Нищий</td>\n",
       "      <td>Ловкость</td>\n",
       "      <td>Обаяние</td>\n",
       "      <td>Связанный честью</td>\n",
       "      <td>Нет</td>\n",
       "      <td>Бесстрашный первооткрыватель</td>\n",
       "      <td>Телосложение</td>\n",
       "      <td>Интеллект</td>\n",
       "      <td>Нет</td>\n",
       "      <td>1</td>\n",
       "      <td>Обаяние</td>\n",
       "      <td>Возвести укрепления</td>\n",
       "      <td>Сила</td>\n",
       "      <td>Интеллект</td>\n",
       "      <td>4</td>\n",
       "      <td>0</td>\n",
       "    </tr>\n",
       "    <tr>\n",
       "      <th>3</th>\n",
       "      <td>6214</td>\n",
       "      <td>Школяр</td>\n",
       "      <td>Мудрость</td>\n",
       "      <td>Интеллект</td>\n",
       "      <td>Ученик мастера</td>\n",
       "      <td>Сила</td>\n",
       "      <td>Бесстрашный первооткрыватель</td>\n",
       "      <td>Телосложение</td>\n",
       "      <td>Интеллект</td>\n",
       "      <td>Нет</td>\n",
       "      <td>1</td>\n",
       "      <td>Интеллект</td>\n",
       "      <td>Украсть, чтобы выжить</td>\n",
       "      <td>Ловкость</td>\n",
       "      <td>Телосложение</td>\n",
       "      <td>4</td>\n",
       "      <td>0</td>\n",
       "    </tr>\n",
       "    <tr>\n",
       "      <th>4</th>\n",
       "      <td>8594</td>\n",
       "      <td>Моряк</td>\n",
       "      <td>Сила</td>\n",
       "      <td>Интеллект</td>\n",
       "      <td>Ученик мастера</td>\n",
       "      <td>Сила</td>\n",
       "      <td>Великий завоеватель</td>\n",
       "      <td>Сила</td>\n",
       "      <td>Ловкость</td>\n",
       "      <td>Телосложение</td>\n",
       "      <td>0</td>\n",
       "      <td>Интеллект</td>\n",
       "      <td>Отправиться на поиски еды</td>\n",
       "      <td>Телосложение</td>\n",
       "      <td>Ловкость</td>\n",
       "      <td>4</td>\n",
       "      <td>0</td>\n",
       "    </tr>\n",
       "  </tbody>\n",
       "</table>\n",
       "</div>"
      ],
      "text/plain": [
       "   Игрок Происхождение    Руна_1        Руна_2           Стремление Опция  \\\n",
       "0  12037        Фермер      Сила      Мудрость       Ученик мастера  Сила   \n",
       "1  11238    Новобранец      Сила  Телосложение  Рожденный в рубашке   Нет   \n",
       "2    925         Нищий  Ловкость       Обаяние     Связанный честью   Нет   \n",
       "3   6214        Школяр  Мудрость     Интеллект       Ученик мастера  Сила   \n",
       "4   8594         Моряк      Сила     Интеллект       Ученик мастера  Сила   \n",
       "\n",
       "                         Судьба        Цель_1     Цель_2        Цель_3  Опыт  \\\n",
       "0                  Дитя природы      Мудрость       Сила       Обаяние     1   \n",
       "1              Драконорожденный  Телосложение    Обаяние           Нет     2   \n",
       "2  Бесстрашный первооткрыватель  Телосложение  Интеллект           Нет     1   \n",
       "3  Бесстрашный первооткрыватель  Телосложение  Интеллект           Нет     1   \n",
       "4           Великий завоеватель          Сила   Ловкость  Телосложение     0   \n",
       "\n",
       "  Способность                  Испытание Основная руна Дополнительная руна  \\\n",
       "0        Сила        Защитить свою семью  Телосложение             Обаяние   \n",
       "1         Нет           Изгнать призрака      Мудрость             Обаяние   \n",
       "2     Обаяние        Возвести укрепления          Сила           Интеллект   \n",
       "3   Интеллект      Украсть, чтобы выжить      Ловкость        Телосложение   \n",
       "4   Интеллект  Отправиться на поиски еды  Телосложение            Ловкость   \n",
       "\n",
       "   Сложность  Стоит ли пробовать  \n",
       "0          4                   0  \n",
       "1          3                   0  \n",
       "2          4                   0  \n",
       "3          4                   0  \n",
       "4          4                   0  "
      ]
     },
     "execution_count": 5,
     "metadata": {},
     "output_type": "execute_result"
    }
   ],
   "source": [
    "# Example of how our information looks like. Most columns are categorical\n",
    "turns.head()"
   ]
  },
  {
   "cell_type": "code",
   "execution_count": 6,
   "metadata": {},
   "outputs": [
    {
     "data": {
      "text/plain": [
       "<Axes: xlabel='Стоит ли пробовать', ylabel='count'>"
      ]
     },
     "execution_count": 6,
     "metadata": {},
     "output_type": "execute_result"
    },
    {
     "data": {
      "image/png": "[encoded data removed]",
      "text/plain": [
       "<Figure size 640x480 with 1 Axes>"
      ]
     },
     "metadata": {},
     "output_type": "display_data"
    }
   ],
   "source": [
    "# Guess that we deal with unbalanced data - That's true! \n",
    "sns.countplot(data=turns, x='Стоит ли пробовать', palette='inferno') "
   ]
  },
  {
   "cell_type": "code",
   "execution_count": 7,
   "metadata": {},
   "outputs": [],
   "source": [
    "# Don't have anything for cleaning data, because all our game turns are simulated. \n",
    "# For this purpose data were cleaned and explored before. Let's just explore them a bit \n",
    "# more not to go back and so we may know with what we are dealing"
   ]
  },
  {
   "cell_type": "code",
   "execution_count": 8,
   "metadata": {},
   "outputs": [
    {
     "data": {
      "text/html": [
       "<div>\n",
       "<style scoped>\n",
       "    .dataframe tbody tr th:only-of-type {\n",
       "        vertical-align: middle;\n",
       "    }\n",
       "\n",
       "    .dataframe tbody tr th {\n",
       "        vertical-align: top;\n",
       "    }\n",
       "\n",
       "    .dataframe thead th {\n",
       "        text-align: right;\n",
       "    }\n",
       "</style>\n",
       "<table border=\"1\" class=\"dataframe\">\n",
       "  <thead>\n",
       "    <tr style=\"text-align: right;\">\n",
       "      <th></th>\n",
       "      <th>Игрок</th>\n",
       "      <th>Происхождение</th>\n",
       "      <th>Руна_1</th>\n",
       "      <th>Руна_2</th>\n",
       "      <th>Стремление</th>\n",
       "      <th>Опция</th>\n",
       "      <th>Судьба</th>\n",
       "      <th>Цель_1</th>\n",
       "      <th>Цель_2</th>\n",
       "      <th>Цель_3</th>\n",
       "      <th>Опыт</th>\n",
       "      <th>Способность</th>\n",
       "      <th>Испытание</th>\n",
       "      <th>Основная руна</th>\n",
       "      <th>Дополнительная руна</th>\n",
       "      <th>Сложность</th>\n",
       "      <th>Стоит ли пробовать</th>\n",
       "    </tr>\n",
       "  </thead>\n",
       "  <tbody>\n",
       "    <tr>\n",
       "      <th>8</th>\n",
       "      <td>7065</td>\n",
       "      <td>Поселенец</td>\n",
       "      <td>Телосложение</td>\n",
       "      <td>Интеллект</td>\n",
       "      <td>В поисках истины</td>\n",
       "      <td>Мудрость</td>\n",
       "      <td>Верховный арканист</td>\n",
       "      <td>Интеллект</td>\n",
       "      <td>Мудрость</td>\n",
       "      <td>Нет</td>\n",
       "      <td>0</td>\n",
       "      <td>Интеллект</td>\n",
       "      <td>Подчинить силу Тьмы</td>\n",
       "      <td>Интеллект</td>\n",
       "      <td>Телосложение</td>\n",
       "      <td>4</td>\n",
       "      <td>1</td>\n",
       "    </tr>\n",
       "    <tr>\n",
       "      <th>14</th>\n",
       "      <td>10341</td>\n",
       "      <td>Оруженосец</td>\n",
       "      <td>Ловкость</td>\n",
       "      <td>Сила</td>\n",
       "      <td>Избранник света</td>\n",
       "      <td>Нет</td>\n",
       "      <td>Бесстрашный первооткрыватель</td>\n",
       "      <td>Телосложение</td>\n",
       "      <td>Интеллект</td>\n",
       "      <td>Нет</td>\n",
       "      <td>1</td>\n",
       "      <td>Ловкость</td>\n",
       "      <td>Познать темные тайны</td>\n",
       "      <td>Интеллект</td>\n",
       "      <td>Ловкость</td>\n",
       "      <td>4</td>\n",
       "      <td>1</td>\n",
       "    </tr>\n",
       "    <tr>\n",
       "      <th>15</th>\n",
       "      <td>9060</td>\n",
       "      <td>Моряк</td>\n",
       "      <td>Сила</td>\n",
       "      <td>Интеллект</td>\n",
       "      <td>Связанный честью</td>\n",
       "      <td>Нет</td>\n",
       "      <td>Бесстрашный первооткрыватель</td>\n",
       "      <td>Телосложение</td>\n",
       "      <td>Интеллект</td>\n",
       "      <td>Нет</td>\n",
       "      <td>2</td>\n",
       "      <td>Нет</td>\n",
       "      <td>Выжить в огне</td>\n",
       "      <td>Телосложение</td>\n",
       "      <td>Мудрость</td>\n",
       "      <td>3</td>\n",
       "      <td>1</td>\n",
       "    </tr>\n",
       "    <tr>\n",
       "      <th>16</th>\n",
       "      <td>7149</td>\n",
       "      <td>Поселенец</td>\n",
       "      <td>Телосложение</td>\n",
       "      <td>Интеллект</td>\n",
       "      <td>Поклявшийся защишать</td>\n",
       "      <td>Телосложение</td>\n",
       "      <td>Карающая длань</td>\n",
       "      <td>Ловкость</td>\n",
       "      <td>Телосложение</td>\n",
       "      <td>Нет</td>\n",
       "      <td>1</td>\n",
       "      <td>Телосложение</td>\n",
       "      <td>Выжить в огне</td>\n",
       "      <td>Телосложение</td>\n",
       "      <td>Мудрость</td>\n",
       "      <td>3</td>\n",
       "      <td>1</td>\n",
       "    </tr>\n",
       "    <tr>\n",
       "      <th>26</th>\n",
       "      <td>12764</td>\n",
       "      <td>Фермер</td>\n",
       "      <td>Сила</td>\n",
       "      <td>Мудрость</td>\n",
       "      <td>Избранник света</td>\n",
       "      <td>Нет</td>\n",
       "      <td>Коварный злодей</td>\n",
       "      <td>Сила</td>\n",
       "      <td>Ловкость</td>\n",
       "      <td>Интеллект</td>\n",
       "      <td>1</td>\n",
       "      <td>Интеллект</td>\n",
       "      <td>Возвести укрепления</td>\n",
       "      <td>Сила</td>\n",
       "      <td>Интеллект</td>\n",
       "      <td>4</td>\n",
       "      <td>1</td>\n",
       "    </tr>\n",
       "    <tr>\n",
       "      <th>27</th>\n",
       "      <td>8738</td>\n",
       "      <td>Моряк</td>\n",
       "      <td>Сила</td>\n",
       "      <td>Интеллект</td>\n",
       "      <td>Сорвиголова</td>\n",
       "      <td>Ловкость</td>\n",
       "      <td>Великий завоеватель</td>\n",
       "      <td>Сила</td>\n",
       "      <td>Ловкость</td>\n",
       "      <td>Телосложение</td>\n",
       "      <td>2</td>\n",
       "      <td>Телосложение</td>\n",
       "      <td>Научиться подлым уловкам</td>\n",
       "      <td>Ловкость</td>\n",
       "      <td>Сила</td>\n",
       "      <td>4</td>\n",
       "      <td>1</td>\n",
       "    </tr>\n",
       "    <tr>\n",
       "      <th>28</th>\n",
       "      <td>8474</td>\n",
       "      <td>Моряк</td>\n",
       "      <td>Сила</td>\n",
       "      <td>Интеллект</td>\n",
       "      <td>Прирожденный лидер</td>\n",
       "      <td>Обаяние</td>\n",
       "      <td>Великий завоеватель</td>\n",
       "      <td>Сила</td>\n",
       "      <td>Ловкость</td>\n",
       "      <td>Телосложение</td>\n",
       "      <td>1</td>\n",
       "      <td>Телосложение</td>\n",
       "      <td>Скрыться от преследователей</td>\n",
       "      <td>Ловкость</td>\n",
       "      <td>Мудрость</td>\n",
       "      <td>3</td>\n",
       "      <td>1</td>\n",
       "    </tr>\n",
       "    <tr>\n",
       "      <th>40</th>\n",
       "      <td>506</td>\n",
       "      <td>Нищий</td>\n",
       "      <td>Ловкость</td>\n",
       "      <td>Обаяние</td>\n",
       "      <td>Ученик мастера</td>\n",
       "      <td>Сила</td>\n",
       "      <td>Коварный злодей</td>\n",
       "      <td>Сила</td>\n",
       "      <td>Ловкость</td>\n",
       "      <td>Интеллект</td>\n",
       "      <td>1</td>\n",
       "      <td>Обаяние</td>\n",
       "      <td>Изгнать призрака</td>\n",
       "      <td>Мудрость</td>\n",
       "      <td>Обаяние</td>\n",
       "      <td>3</td>\n",
       "      <td>1</td>\n",
       "    </tr>\n",
       "    <tr>\n",
       "      <th>43</th>\n",
       "      <td>6366</td>\n",
       "      <td>Школяр</td>\n",
       "      <td>Мудрость</td>\n",
       "      <td>Интеллект</td>\n",
       "      <td>Сорвиголова</td>\n",
       "      <td>Ловкость</td>\n",
       "      <td>Дитя природы</td>\n",
       "      <td>Мудрость</td>\n",
       "      <td>Сила</td>\n",
       "      <td>Обаяние</td>\n",
       "      <td>2</td>\n",
       "      <td>Мудрость</td>\n",
       "      <td>Изгнать призрака</td>\n",
       "      <td>Мудрость</td>\n",
       "      <td>Обаяние</td>\n",
       "      <td>3</td>\n",
       "      <td>1</td>\n",
       "    </tr>\n",
       "    <tr>\n",
       "      <th>46</th>\n",
       "      <td>13848</td>\n",
       "      <td>Воришка</td>\n",
       "      <td>Ловкость</td>\n",
       "      <td>Телосложение</td>\n",
       "      <td>Избранник света</td>\n",
       "      <td>Нет</td>\n",
       "      <td>Дитя природы</td>\n",
       "      <td>Мудрость</td>\n",
       "      <td>Сила</td>\n",
       "      <td>Обаяние</td>\n",
       "      <td>2</td>\n",
       "      <td>Мудрость</td>\n",
       "      <td>Выучиться на шпиона</td>\n",
       "      <td>Обаяние</td>\n",
       "      <td>Ловкость</td>\n",
       "      <td>3</td>\n",
       "      <td>1</td>\n",
       "    </tr>\n",
       "  </tbody>\n",
       "</table>\n",
       "</div>"
      ],
      "text/plain": [
       "    Игрок Происхождение        Руна_1        Руна_2            Стремление  \\\n",
       "8    7065     Поселенец  Телосложение     Интеллект      В поисках истины   \n",
       "14  10341    Оруженосец      Ловкость          Сила       Избранник света   \n",
       "15   9060         Моряк          Сила     Интеллект      Связанный честью   \n",
       "16   7149     Поселенец  Телосложение     Интеллект  Поклявшийся защишать   \n",
       "26  12764        Фермер          Сила      Мудрость       Избранник света   \n",
       "27   8738         Моряк          Сила     Интеллект           Сорвиголова   \n",
       "28   8474         Моряк          Сила     Интеллект    Прирожденный лидер   \n",
       "40    506         Нищий      Ловкость       Обаяние        Ученик мастера   \n",
       "43   6366        Школяр      Мудрость     Интеллект           Сорвиголова   \n",
       "46  13848       Воришка      Ловкость  Телосложение       Избранник света   \n",
       "\n",
       "           Опция                        Судьба        Цель_1        Цель_2  \\\n",
       "8       Мудрость            Верховный арканист     Интеллект      Мудрость   \n",
       "14           Нет  Бесстрашный первооткрыватель  Телосложение     Интеллект   \n",
       "15           Нет  Бесстрашный первооткрыватель  Телосложение     Интеллект   \n",
       "16  Телосложение                Карающая длань      Ловкость  Телосложение   \n",
       "26           Нет               Коварный злодей          Сила      Ловкость   \n",
       "27      Ловкость           Великий завоеватель          Сила      Ловкость   \n",
       "28       Обаяние           Великий завоеватель          Сила      Ловкость   \n",
       "40          Сила               Коварный злодей          Сила      Ловкость   \n",
       "43      Ловкость                  Дитя природы      Мудрость          Сила   \n",
       "46           Нет                  Дитя природы      Мудрость          Сила   \n",
       "\n",
       "          Цель_3  Опыт   Способность                    Испытание  \\\n",
       "8            Нет     0     Интеллект          Подчинить силу Тьмы   \n",
       "14           Нет     1      Ловкость         Познать темные тайны   \n",
       "15           Нет     2           Нет                Выжить в огне   \n",
       "16           Нет     1  Телосложение                Выжить в огне   \n",
       "26     Интеллект     1     Интеллект          Возвести укрепления   \n",
       "27  Телосложение     2  Телосложение     Научиться подлым уловкам   \n",
       "28  Телосложение     1  Телосложение  Скрыться от преследователей   \n",
       "40     Интеллект     1       Обаяние             Изгнать призрака   \n",
       "43       Обаяние     2      Мудрость             Изгнать призрака   \n",
       "46       Обаяние     2      Мудрость          Выучиться на шпиона   \n",
       "\n",
       "   Основная руна Дополнительная руна  Сложность  Стоит ли пробовать  \n",
       "8      Интеллект        Телосложение          4                   1  \n",
       "14     Интеллект            Ловкость          4                   1  \n",
       "15  Телосложение            Мудрость          3                   1  \n",
       "16  Телосложение            Мудрость          3                   1  \n",
       "26          Сила           Интеллект          4                   1  \n",
       "27      Ловкость                Сила          4                   1  \n",
       "28      Ловкость            Мудрость          3                   1  \n",
       "40      Мудрость             Обаяние          3                   1  \n",
       "43      Мудрость             Обаяние          3                   1  \n",
       "46       Обаяние            Ловкость          3                   1  "
      ]
     },
     "execution_count": 8,
     "metadata": {},
     "output_type": "execute_result"
    }
   ],
   "source": [
    "# With so unbalanced data, what we will see in positive outcome only\n",
    "turns[turns['Стоит ли пробовать'] == 1][:10]"
   ]
  },
  {
   "cell_type": "code",
   "execution_count": 9,
   "metadata": {},
   "outputs": [],
   "source": [
    "# For some rows any of cards and its characteristics are the same. Its have diffenece \n",
    "# in column Опыт, but this doesn't affect the result. Let's look at this a bit closer"
   ]
  },
  {
   "cell_type": "code",
   "execution_count": 10,
   "metadata": {},
   "outputs": [
    {
     "data": {
      "image/png": "[encoded data removed]",
      "text/plain": [
       "<Figure size 1058.88x500 with 2 Axes>"
      ]
     },
     "metadata": {},
     "output_type": "display_data"
    }
   ],
   "source": [
    "# Have only two numeric data, let's watch how its influence on target\n",
    "sns.catplot(data=turns, x='Стоит ли пробовать', hue='Опыт', col='Сложность', kind='count', palette='inferno')\n",
    "plt.show()"
   ]
  },
  {
   "cell_type": "code",
   "execution_count": 11,
   "metadata": {},
   "outputs": [
    {
     "data": {
      "text/plain": [
       "<Axes: xlabel='Сложность', ylabel='count'>"
      ]
     },
     "execution_count": 11,
     "metadata": {},
     "output_type": "execute_result"
    },
    {
     "data": {
      "image/png": "[encoded data removed]",
      "text/plain": [
       "<Figure size 640x480 with 1 Axes>"
      ]
     },
     "metadata": {},
     "output_type": "display_data"
    }
   ],
   "source": [
    "# Actually, do challenges with complexity(сложность) 4 are more often than with complexity 3?\n",
    "# Yes! \n",
    "sns.countplot(data=turns, x='Сложность', palette='inferno')"
   ]
  },
  {
   "cell_type": "code",
   "execution_count": 12,
   "metadata": {},
   "outputs": [],
   "source": [
    "# So, looking in previous graph. With more complexity it becomes less worth to take \n",
    "# the risky challenge, but experience become more helpful. Sounds logical"
   ]
  },
  {
   "cell_type": "code",
   "execution_count": 13,
   "metadata": {},
   "outputs": [
    {
     "data": {
      "text/plain": [
       "array(['Сила', 'Ловкость', 'Мудрость', 'Телосложение', 'Обаяние',\n",
       "       'Интеллект'], dtype=object)"
      ]
     },
     "execution_count": 13,
     "metadata": {},
     "output_type": "execute_result"
    }
   ],
   "source": [
    "# Let's explore runes (руны)\n",
    "turns['Руна_1'].unique()"
   ]
  },
  {
   "cell_type": "code",
   "execution_count": 14,
   "metadata": {},
   "outputs": [
    {
     "data": {
      "text/plain": [
       "array(['Мудрость', 'Телосложение', 'Обаяние', 'Интеллект', 'Сила',\n",
       "       'Ловкость'], dtype=object)"
      ]
     },
     "execution_count": 14,
     "metadata": {},
     "output_type": "execute_result"
    }
   ],
   "source": [
    "turns['Руна_2'].unique()"
   ]
  },
  {
   "cell_type": "code",
   "execution_count": 15,
   "metadata": {},
   "outputs": [
    {
     "data": {
      "text/plain": [
       "Основная руна\n",
       "Интеллект       1362\n",
       "Телосложение    1359\n",
       "Мудрость        1350\n",
       "Ловкость        1335\n",
       "Обаяние         1330\n",
       "Сила            1264\n",
       "Name: count, dtype: int64"
      ]
     },
     "execution_count": 15,
     "metadata": {},
     "output_type": "execute_result"
    }
   ],
   "source": [
    "turns['Основная руна'].value_counts()"
   ]
  },
  {
   "cell_type": "code",
   "execution_count": 16,
   "metadata": {},
   "outputs": [],
   "source": [
    "# So we have in sum 6 runes ain near the same quantity"
   ]
  },
  {
   "cell_type": "code",
   "execution_count": 17,
   "metadata": {},
   "outputs": [
    {
     "data": {
      "image/png": "[encoded data removed]",
      "text/plain": [
       "<Figure size 640x480 with 1 Axes>"
      ]
     },
     "metadata": {},
     "output_type": "display_data"
    }
   ],
   "source": [
    "# With some of them challenges are simplier to take\n",
    "sns.countplot(data=turns, x= 'Основная руна', hue = 'Стоит ли пробовать', palette='inferno')\n",
    "plt.xticks(rotation=90);\n",
    "plt.show()"
   ]
  },
  {
   "cell_type": "code",
   "execution_count": 18,
   "metadata": {},
   "outputs": [
    {
     "data": {
      "image/png": "[encoded data removed]",
      "text/plain": [
       "<Figure size 640x480 with 1 Axes>"
      ]
     },
     "metadata": {},
     "output_type": "display_data"
    }
   ],
   "source": [
    "# Also we have 'Нет' option in category 'Опция'. But looks like it doesn't affect results much,\n",
    "# positive result for this category bigger just because this category bigger itself\n",
    "sns.countplot(data=turns, x= 'Опция', hue = 'Стоит ли пробовать', palette='inferno')\n",
    "plt.xticks(rotation=90);\n",
    "plt.show()"
   ]
  },
  {
   "cell_type": "code",
   "execution_count": 19,
   "metadata": {},
   "outputs": [
    {
     "data": {
      "image/png": "[encoded data removed]",
      "text/plain": [
       "<Figure size 640x480 with 1 Axes>"
      ]
     },
     "metadata": {},
     "output_type": "display_data"
    }
   ],
   "source": [
    "sns.countplot(data=turns, x= 'Способность', hue = 'Стоит ли пробовать', palette='inferno')\n",
    "plt.xticks(rotation=90);\n",
    "plt.show()"
   ]
  },
  {
   "cell_type": "code",
   "execution_count": 20,
   "metadata": {},
   "outputs": [],
   "source": [
    "# Data preprocessing\n",
    "# Create list of categorical features and the main features that are different for every row, just contains some card names\n",
    "features_cat = [\"Руна_1\", \"Руна_2\", \"Опция\", \"Цель_1\", \"Цель_2\", \"Цель_3\", \"Основная руна\", \"Дополнительная руна\", \"Способность\"]\n",
    "drops = [\"Игрок\", \"Испытание\", \"Стоит ли пробовать\", \"Происхождение\", \"Стремление\", \"Судьба\"]"
   ]
  },
  {
   "cell_type": "code",
   "execution_count": 21,
   "metadata": {},
   "outputs": [],
   "source": [
    "# The following steps are involved:\n",
    "# - Building dummies for the categorical columns\n",
    "# - Assigning labels and targets\n",
    "# - Lastly, splitting the test and training sets"
   ]
  },
  {
   "cell_type": "code",
   "execution_count": 22,
   "metadata": {},
   "outputs": [],
   "source": [
    "df_turns = turns.copy()"
   ]
  },
  {
   "cell_type": "code",
   "execution_count": 23,
   "metadata": {},
   "outputs": [],
   "source": [
    "# Creating dummy variables and deleting the previous column\n",
    "for i in features_cat:\n",
    "    turns[i] = turns[i].astype(\"category\")\n",
    "    dummy_df = pd.get_dummies(turns[i], prefix=i, drop_first=True, dtype=int)\n",
    "    turns = pd.concat([turns, dummy_df], axis=1)\n",
    "    turns = turns.drop(i, axis=1)\n",
    "    \n",
    "for i in [\"Опыт\", \"Сложность\",\"Стоит ли пробовать\"]:\n",
    "    turns[i] = turns[i].astype(int)\n",
    "    \n",
    "X = turns.drop(drops, axis=1)\n",
    "y = turns[\"Стоит ли пробовать\"]"
   ]
  },
  {
   "cell_type": "code",
   "execution_count": 24,
   "metadata": {},
   "outputs": [
    {
     "data": {
      "text/html": [
       "<div>\n",
       "<style scoped>\n",
       "    .dataframe tbody tr th:only-of-type {\n",
       "        vertical-align: middle;\n",
       "    }\n",
       "\n",
       "    .dataframe tbody tr th {\n",
       "        vertical-align: top;\n",
       "    }\n",
       "\n",
       "    .dataframe thead th {\n",
       "        text-align: right;\n",
       "    }\n",
       "</style>\n",
       "<table border=\"1\" class=\"dataframe\">\n",
       "  <thead>\n",
       "    <tr style=\"text-align: right;\">\n",
       "      <th></th>\n",
       "      <th>Опыт</th>\n",
       "      <th>Сложность</th>\n",
       "      <th>Руна_1_Ловкость</th>\n",
       "      <th>Руна_1_Мудрость</th>\n",
       "      <th>Руна_1_Обаяние</th>\n",
       "      <th>Руна_1_Сила</th>\n",
       "      <th>Руна_1_Телосложение</th>\n",
       "      <th>Руна_2_Ловкость</th>\n",
       "      <th>Руна_2_Мудрость</th>\n",
       "      <th>Руна_2_Обаяние</th>\n",
       "      <th>...</th>\n",
       "      <th>Дополнительная руна_Мудрость</th>\n",
       "      <th>Дополнительная руна_Обаяние</th>\n",
       "      <th>Дополнительная руна_Сила</th>\n",
       "      <th>Дополнительная руна_Телосложение</th>\n",
       "      <th>Способность_Ловкость</th>\n",
       "      <th>Способность_Мудрость</th>\n",
       "      <th>Способность_Нет</th>\n",
       "      <th>Способность_Обаяние</th>\n",
       "      <th>Способность_Сила</th>\n",
       "      <th>Способность_Телосложение</th>\n",
       "    </tr>\n",
       "  </thead>\n",
       "  <tbody>\n",
       "    <tr>\n",
       "      <th>0</th>\n",
       "      <td>1</td>\n",
       "      <td>4</td>\n",
       "      <td>0</td>\n",
       "      <td>0</td>\n",
       "      <td>0</td>\n",
       "      <td>1</td>\n",
       "      <td>0</td>\n",
       "      <td>0</td>\n",
       "      <td>1</td>\n",
       "      <td>0</td>\n",
       "      <td>...</td>\n",
       "      <td>0</td>\n",
       "      <td>1</td>\n",
       "      <td>0</td>\n",
       "      <td>0</td>\n",
       "      <td>0</td>\n",
       "      <td>0</td>\n",
       "      <td>0</td>\n",
       "      <td>0</td>\n",
       "      <td>1</td>\n",
       "      <td>0</td>\n",
       "    </tr>\n",
       "    <tr>\n",
       "      <th>1</th>\n",
       "      <td>2</td>\n",
       "      <td>3</td>\n",
       "      <td>0</td>\n",
       "      <td>0</td>\n",
       "      <td>0</td>\n",
       "      <td>1</td>\n",
       "      <td>0</td>\n",
       "      <td>0</td>\n",
       "      <td>0</td>\n",
       "      <td>0</td>\n",
       "      <td>...</td>\n",
       "      <td>0</td>\n",
       "      <td>1</td>\n",
       "      <td>0</td>\n",
       "      <td>0</td>\n",
       "      <td>0</td>\n",
       "      <td>0</td>\n",
       "      <td>1</td>\n",
       "      <td>0</td>\n",
       "      <td>0</td>\n",
       "      <td>0</td>\n",
       "    </tr>\n",
       "    <tr>\n",
       "      <th>2</th>\n",
       "      <td>1</td>\n",
       "      <td>4</td>\n",
       "      <td>1</td>\n",
       "      <td>0</td>\n",
       "      <td>0</td>\n",
       "      <td>0</td>\n",
       "      <td>0</td>\n",
       "      <td>0</td>\n",
       "      <td>0</td>\n",
       "      <td>1</td>\n",
       "      <td>...</td>\n",
       "      <td>0</td>\n",
       "      <td>0</td>\n",
       "      <td>0</td>\n",
       "      <td>0</td>\n",
       "      <td>0</td>\n",
       "      <td>0</td>\n",
       "      <td>0</td>\n",
       "      <td>1</td>\n",
       "      <td>0</td>\n",
       "      <td>0</td>\n",
       "    </tr>\n",
       "    <tr>\n",
       "      <th>3</th>\n",
       "      <td>1</td>\n",
       "      <td>4</td>\n",
       "      <td>0</td>\n",
       "      <td>1</td>\n",
       "      <td>0</td>\n",
       "      <td>0</td>\n",
       "      <td>0</td>\n",
       "      <td>0</td>\n",
       "      <td>0</td>\n",
       "      <td>0</td>\n",
       "      <td>...</td>\n",
       "      <td>0</td>\n",
       "      <td>0</td>\n",
       "      <td>0</td>\n",
       "      <td>1</td>\n",
       "      <td>0</td>\n",
       "      <td>0</td>\n",
       "      <td>0</td>\n",
       "      <td>0</td>\n",
       "      <td>0</td>\n",
       "      <td>0</td>\n",
       "    </tr>\n",
       "    <tr>\n",
       "      <th>4</th>\n",
       "      <td>0</td>\n",
       "      <td>4</td>\n",
       "      <td>0</td>\n",
       "      <td>0</td>\n",
       "      <td>0</td>\n",
       "      <td>1</td>\n",
       "      <td>0</td>\n",
       "      <td>0</td>\n",
       "      <td>0</td>\n",
       "      <td>0</td>\n",
       "      <td>...</td>\n",
       "      <td>0</td>\n",
       "      <td>0</td>\n",
       "      <td>0</td>\n",
       "      <td>0</td>\n",
       "      <td>0</td>\n",
       "      <td>0</td>\n",
       "      <td>0</td>\n",
       "      <td>0</td>\n",
       "      <td>0</td>\n",
       "      <td>0</td>\n",
       "    </tr>\n",
       "  </tbody>\n",
       "</table>\n",
       "<p>5 rows × 46 columns</p>\n",
       "</div>"
      ],
      "text/plain": [
       "   Опыт  Сложность  Руна_1_Ловкость  Руна_1_Мудрость  Руна_1_Обаяние  \\\n",
       "0     1          4                0                0               0   \n",
       "1     2          3                0                0               0   \n",
       "2     1          4                1                0               0   \n",
       "3     1          4                0                1               0   \n",
       "4     0          4                0                0               0   \n",
       "\n",
       "   Руна_1_Сила  Руна_1_Телосложение  Руна_2_Ловкость  Руна_2_Мудрость  \\\n",
       "0            1                    0                0                1   \n",
       "1            1                    0                0                0   \n",
       "2            0                    0                0                0   \n",
       "3            0                    0                0                0   \n",
       "4            1                    0                0                0   \n",
       "\n",
       "   Руна_2_Обаяние  ...  Дополнительная руна_Мудрость  \\\n",
       "0               0  ...                             0   \n",
       "1               0  ...                             0   \n",
       "2               1  ...                             0   \n",
       "3               0  ...                             0   \n",
       "4               0  ...                             0   \n",
       "\n",
       "   Дополнительная руна_Обаяние  Дополнительная руна_Сила  \\\n",
       "0                            1                         0   \n",
       "1                            1                         0   \n",
       "2                            0                         0   \n",
       "3                            0                         0   \n",
       "4                            0                         0   \n",
       "\n",
       "   Дополнительная руна_Телосложение  Способность_Ловкость  \\\n",
       "0                                 0                     0   \n",
       "1                                 0                     0   \n",
       "2                                 0                     0   \n",
       "3                                 1                     0   \n",
       "4                                 0                     0   \n",
       "\n",
       "   Способность_Мудрость  Способность_Нет  Способность_Обаяние  \\\n",
       "0                     0                0                    0   \n",
       "1                     0                1                    0   \n",
       "2                     0                0                    1   \n",
       "3                     0                0                    0   \n",
       "4                     0                0                    0   \n",
       "\n",
       "   Способность_Сила  Способность_Телосложение  \n",
       "0                 1                         0  \n",
       "1                 0                         0  \n",
       "2                 0                         0  \n",
       "3                 0                         0  \n",
       "4                 0                         0  \n",
       "\n",
       "[5 rows x 46 columns]"
      ]
     },
     "execution_count": 24,
     "metadata": {},
     "output_type": "execute_result"
    }
   ],
   "source": [
    "# Closer look on features now\n",
    "X.head()"
   ]
  },
  {
   "cell_type": "code",
   "execution_count": 25,
   "metadata": {},
   "outputs": [],
   "source": [
    "X_trains, X_valid, y_trains, y_valid = train_test_split(X, y, test_size=0.10, random_state=101)"
   ]
  },
  {
   "cell_type": "code",
   "execution_count": 26,
   "metadata": {},
   "outputs": [],
   "source": [
    "X_train, X_test, y_train, y_test = train_test_split(X_trains, y_trains, test_size=0.20, random_state=101)"
   ]
  },
  {
   "cell_type": "code",
   "execution_count": 27,
   "metadata": {},
   "outputs": [
    {
     "data": {
      "text/html": [
       "<div>\n",
       "<style scoped>\n",
       "    .dataframe tbody tr th:only-of-type {\n",
       "        vertical-align: middle;\n",
       "    }\n",
       "\n",
       "    .dataframe tbody tr th {\n",
       "        vertical-align: top;\n",
       "    }\n",
       "\n",
       "    .dataframe thead th {\n",
       "        text-align: right;\n",
       "    }\n",
       "</style>\n",
       "<table border=\"1\" class=\"dataframe\">\n",
       "  <thead>\n",
       "    <tr style=\"text-align: right;\">\n",
       "      <th></th>\n",
       "      <th>Опыт</th>\n",
       "      <th>Сложность</th>\n",
       "      <th>Руна_1_Ловкость</th>\n",
       "      <th>Руна_1_Мудрость</th>\n",
       "      <th>Руна_1_Обаяние</th>\n",
       "      <th>Руна_1_Сила</th>\n",
       "      <th>Руна_1_Телосложение</th>\n",
       "      <th>Руна_2_Ловкость</th>\n",
       "      <th>Руна_2_Мудрость</th>\n",
       "      <th>Руна_2_Обаяние</th>\n",
       "      <th>...</th>\n",
       "      <th>Дополнительная руна_Мудрость</th>\n",
       "      <th>Дополнительная руна_Обаяние</th>\n",
       "      <th>Дополнительная руна_Сила</th>\n",
       "      <th>Дополнительная руна_Телосложение</th>\n",
       "      <th>Способность_Ловкость</th>\n",
       "      <th>Способность_Мудрость</th>\n",
       "      <th>Способность_Нет</th>\n",
       "      <th>Способность_Обаяние</th>\n",
       "      <th>Способность_Сила</th>\n",
       "      <th>Способность_Телосложение</th>\n",
       "    </tr>\n",
       "  </thead>\n",
       "  <tbody>\n",
       "    <tr>\n",
       "      <th>998</th>\n",
       "      <td>2</td>\n",
       "      <td>4</td>\n",
       "      <td>1</td>\n",
       "      <td>0</td>\n",
       "      <td>0</td>\n",
       "      <td>0</td>\n",
       "      <td>0</td>\n",
       "      <td>0</td>\n",
       "      <td>0</td>\n",
       "      <td>0</td>\n",
       "      <td>...</td>\n",
       "      <td>0</td>\n",
       "      <td>0</td>\n",
       "      <td>0</td>\n",
       "      <td>1</td>\n",
       "      <td>0</td>\n",
       "      <td>0</td>\n",
       "      <td>0</td>\n",
       "      <td>0</td>\n",
       "      <td>0</td>\n",
       "      <td>1</td>\n",
       "    </tr>\n",
       "    <tr>\n",
       "      <th>4030</th>\n",
       "      <td>2</td>\n",
       "      <td>4</td>\n",
       "      <td>0</td>\n",
       "      <td>1</td>\n",
       "      <td>0</td>\n",
       "      <td>0</td>\n",
       "      <td>0</td>\n",
       "      <td>0</td>\n",
       "      <td>0</td>\n",
       "      <td>1</td>\n",
       "      <td>...</td>\n",
       "      <td>0</td>\n",
       "      <td>1</td>\n",
       "      <td>0</td>\n",
       "      <td>0</td>\n",
       "      <td>0</td>\n",
       "      <td>1</td>\n",
       "      <td>0</td>\n",
       "      <td>0</td>\n",
       "      <td>0</td>\n",
       "      <td>0</td>\n",
       "    </tr>\n",
       "    <tr>\n",
       "      <th>2835</th>\n",
       "      <td>1</td>\n",
       "      <td>4</td>\n",
       "      <td>1</td>\n",
       "      <td>0</td>\n",
       "      <td>0</td>\n",
       "      <td>0</td>\n",
       "      <td>0</td>\n",
       "      <td>0</td>\n",
       "      <td>0</td>\n",
       "      <td>1</td>\n",
       "      <td>...</td>\n",
       "      <td>1</td>\n",
       "      <td>0</td>\n",
       "      <td>0</td>\n",
       "      <td>0</td>\n",
       "      <td>0</td>\n",
       "      <td>0</td>\n",
       "      <td>1</td>\n",
       "      <td>0</td>\n",
       "      <td>0</td>\n",
       "      <td>0</td>\n",
       "    </tr>\n",
       "    <tr>\n",
       "      <th>177</th>\n",
       "      <td>2</td>\n",
       "      <td>4</td>\n",
       "      <td>0</td>\n",
       "      <td>0</td>\n",
       "      <td>0</td>\n",
       "      <td>0</td>\n",
       "      <td>0</td>\n",
       "      <td>0</td>\n",
       "      <td>0</td>\n",
       "      <td>1</td>\n",
       "      <td>...</td>\n",
       "      <td>0</td>\n",
       "      <td>0</td>\n",
       "      <td>1</td>\n",
       "      <td>0</td>\n",
       "      <td>0</td>\n",
       "      <td>0</td>\n",
       "      <td>0</td>\n",
       "      <td>0</td>\n",
       "      <td>1</td>\n",
       "      <td>0</td>\n",
       "    </tr>\n",
       "    <tr>\n",
       "      <th>1694</th>\n",
       "      <td>1</td>\n",
       "      <td>4</td>\n",
       "      <td>0</td>\n",
       "      <td>0</td>\n",
       "      <td>0</td>\n",
       "      <td>1</td>\n",
       "      <td>0</td>\n",
       "      <td>0</td>\n",
       "      <td>1</td>\n",
       "      <td>0</td>\n",
       "      <td>...</td>\n",
       "      <td>1</td>\n",
       "      <td>0</td>\n",
       "      <td>0</td>\n",
       "      <td>0</td>\n",
       "      <td>0</td>\n",
       "      <td>0</td>\n",
       "      <td>0</td>\n",
       "      <td>0</td>\n",
       "      <td>0</td>\n",
       "      <td>0</td>\n",
       "    </tr>\n",
       "    <tr>\n",
       "      <th>...</th>\n",
       "      <td>...</td>\n",
       "      <td>...</td>\n",
       "      <td>...</td>\n",
       "      <td>...</td>\n",
       "      <td>...</td>\n",
       "      <td>...</td>\n",
       "      <td>...</td>\n",
       "      <td>...</td>\n",
       "      <td>...</td>\n",
       "      <td>...</td>\n",
       "      <td>...</td>\n",
       "      <td>...</td>\n",
       "      <td>...</td>\n",
       "      <td>...</td>\n",
       "      <td>...</td>\n",
       "      <td>...</td>\n",
       "      <td>...</td>\n",
       "      <td>...</td>\n",
       "      <td>...</td>\n",
       "      <td>...</td>\n",
       "      <td>...</td>\n",
       "    </tr>\n",
       "    <tr>\n",
       "      <th>6149</th>\n",
       "      <td>2</td>\n",
       "      <td>4</td>\n",
       "      <td>1</td>\n",
       "      <td>0</td>\n",
       "      <td>0</td>\n",
       "      <td>0</td>\n",
       "      <td>0</td>\n",
       "      <td>0</td>\n",
       "      <td>0</td>\n",
       "      <td>1</td>\n",
       "      <td>...</td>\n",
       "      <td>0</td>\n",
       "      <td>0</td>\n",
       "      <td>0</td>\n",
       "      <td>0</td>\n",
       "      <td>0</td>\n",
       "      <td>1</td>\n",
       "      <td>0</td>\n",
       "      <td>0</td>\n",
       "      <td>0</td>\n",
       "      <td>0</td>\n",
       "    </tr>\n",
       "    <tr>\n",
       "      <th>432</th>\n",
       "      <td>2</td>\n",
       "      <td>4</td>\n",
       "      <td>0</td>\n",
       "      <td>0</td>\n",
       "      <td>0</td>\n",
       "      <td>1</td>\n",
       "      <td>0</td>\n",
       "      <td>0</td>\n",
       "      <td>0</td>\n",
       "      <td>0</td>\n",
       "      <td>...</td>\n",
       "      <td>0</td>\n",
       "      <td>0</td>\n",
       "      <td>0</td>\n",
       "      <td>0</td>\n",
       "      <td>0</td>\n",
       "      <td>0</td>\n",
       "      <td>0</td>\n",
       "      <td>0</td>\n",
       "      <td>1</td>\n",
       "      <td>0</td>\n",
       "    </tr>\n",
       "    <tr>\n",
       "      <th>4942</th>\n",
       "      <td>0</td>\n",
       "      <td>4</td>\n",
       "      <td>0</td>\n",
       "      <td>0</td>\n",
       "      <td>0</td>\n",
       "      <td>1</td>\n",
       "      <td>0</td>\n",
       "      <td>0</td>\n",
       "      <td>1</td>\n",
       "      <td>0</td>\n",
       "      <td>...</td>\n",
       "      <td>0</td>\n",
       "      <td>0</td>\n",
       "      <td>1</td>\n",
       "      <td>0</td>\n",
       "      <td>0</td>\n",
       "      <td>0</td>\n",
       "      <td>0</td>\n",
       "      <td>0</td>\n",
       "      <td>1</td>\n",
       "      <td>0</td>\n",
       "    </tr>\n",
       "    <tr>\n",
       "      <th>1016</th>\n",
       "      <td>1</td>\n",
       "      <td>4</td>\n",
       "      <td>0</td>\n",
       "      <td>1</td>\n",
       "      <td>0</td>\n",
       "      <td>0</td>\n",
       "      <td>0</td>\n",
       "      <td>0</td>\n",
       "      <td>0</td>\n",
       "      <td>1</td>\n",
       "      <td>...</td>\n",
       "      <td>0</td>\n",
       "      <td>0</td>\n",
       "      <td>0</td>\n",
       "      <td>0</td>\n",
       "      <td>0</td>\n",
       "      <td>0</td>\n",
       "      <td>0</td>\n",
       "      <td>0</td>\n",
       "      <td>0</td>\n",
       "      <td>0</td>\n",
       "    </tr>\n",
       "    <tr>\n",
       "      <th>5188</th>\n",
       "      <td>0</td>\n",
       "      <td>4</td>\n",
       "      <td>0</td>\n",
       "      <td>0</td>\n",
       "      <td>0</td>\n",
       "      <td>0</td>\n",
       "      <td>1</td>\n",
       "      <td>0</td>\n",
       "      <td>0</td>\n",
       "      <td>0</td>\n",
       "      <td>...</td>\n",
       "      <td>1</td>\n",
       "      <td>0</td>\n",
       "      <td>0</td>\n",
       "      <td>0</td>\n",
       "      <td>0</td>\n",
       "      <td>0</td>\n",
       "      <td>0</td>\n",
       "      <td>1</td>\n",
       "      <td>0</td>\n",
       "      <td>0</td>\n",
       "    </tr>\n",
       "  </tbody>\n",
       "</table>\n",
       "<p>5760 rows × 46 columns</p>\n",
       "</div>"
      ],
      "text/plain": [
       "      Опыт  Сложность  Руна_1_Ловкость  Руна_1_Мудрость  Руна_1_Обаяние  \\\n",
       "998      2          4                1                0               0   \n",
       "4030     2          4                0                1               0   \n",
       "2835     1          4                1                0               0   \n",
       "177      2          4                0                0               0   \n",
       "1694     1          4                0                0               0   \n",
       "...    ...        ...              ...              ...             ...   \n",
       "6149     2          4                1                0               0   \n",
       "432      2          4                0                0               0   \n",
       "4942     0          4                0                0               0   \n",
       "1016     1          4                0                1               0   \n",
       "5188     0          4                0                0               0   \n",
       "\n",
       "      Руна_1_Сила  Руна_1_Телосложение  Руна_2_Ловкость  Руна_2_Мудрость  \\\n",
       "998             0                    0                0                0   \n",
       "4030            0                    0                0                0   \n",
       "2835            0                    0                0                0   \n",
       "177             0                    0                0                0   \n",
       "1694            1                    0                0                1   \n",
       "...           ...                  ...              ...              ...   \n",
       "6149            0                    0                0                0   \n",
       "432             1                    0                0                0   \n",
       "4942            1                    0                0                1   \n",
       "1016            0                    0                0                0   \n",
       "5188            0                    1                0                0   \n",
       "\n",
       "      Руна_2_Обаяние  ...  Дополнительная руна_Мудрость  \\\n",
       "998                0  ...                             0   \n",
       "4030               1  ...                             0   \n",
       "2835               1  ...                             1   \n",
       "177                1  ...                             0   \n",
       "1694               0  ...                             1   \n",
       "...              ...  ...                           ...   \n",
       "6149               1  ...                             0   \n",
       "432                0  ...                             0   \n",
       "4942               0  ...                             0   \n",
       "1016               1  ...                             0   \n",
       "5188               0  ...                             1   \n",
       "\n",
       "      Дополнительная руна_Обаяние  Дополнительная руна_Сила  \\\n",
       "998                             0                         0   \n",
       "4030                            1                         0   \n",
       "2835                            0                         0   \n",
       "177                             0                         1   \n",
       "1694                            0                         0   \n",
       "...                           ...                       ...   \n",
       "6149                            0                         0   \n",
       "432                             0                         0   \n",
       "4942                            0                         1   \n",
       "1016                            0                         0   \n",
       "5188                            0                         0   \n",
       "\n",
       "      Дополнительная руна_Телосложение  Способность_Ловкость  \\\n",
       "998                                  1                     0   \n",
       "4030                                 0                     0   \n",
       "2835                                 0                     0   \n",
       "177                                  0                     0   \n",
       "1694                                 0                     0   \n",
       "...                                ...                   ...   \n",
       "6149                                 0                     0   \n",
       "432                                  0                     0   \n",
       "4942                                 0                     0   \n",
       "1016                                 0                     0   \n",
       "5188                                 0                     0   \n",
       "\n",
       "      Способность_Мудрость  Способность_Нет  Способность_Обаяние  \\\n",
       "998                      0                0                    0   \n",
       "4030                     1                0                    0   \n",
       "2835                     0                1                    0   \n",
       "177                      0                0                    0   \n",
       "1694                     0                0                    0   \n",
       "...                    ...              ...                  ...   \n",
       "6149                     1                0                    0   \n",
       "432                      0                0                    0   \n",
       "4942                     0                0                    0   \n",
       "1016                     0                0                    0   \n",
       "5188                     0                0                    1   \n",
       "\n",
       "      Способность_Сила  Способность_Телосложение  \n",
       "998                  0                         1  \n",
       "4030                 0                         0  \n",
       "2835                 0                         0  \n",
       "177                  1                         0  \n",
       "1694                 0                         0  \n",
       "...                ...                       ...  \n",
       "6149                 0                         0  \n",
       "432                  1                         0  \n",
       "4942                 1                         0  \n",
       "1016                 0                         0  \n",
       "5188                 0                         0  \n",
       "\n",
       "[5760 rows x 46 columns]"
      ]
     },
     "execution_count": 27,
     "metadata": {},
     "output_type": "execute_result"
    }
   ],
   "source": [
    "X_train"
   ]
  },
  {
   "cell_type": "code",
   "execution_count": 28,
   "metadata": {},
   "outputs": [],
   "source": [
    "# Model selection\n",
    "# My main was to use the second data division(_train and _test) for testing different model, \n",
    "# than use _trains for gridsearchCV for best parameters for one choosed model\n",
    "# So will create pipeline for some model and see how it works\n",
    "## Remember that we have unbalanced data ##"
   ]
  },
  {
   "cell_type": "code",
   "execution_count": 29,
   "metadata": {},
   "outputs": [],
   "source": [
    "# Before start let's write small function to get sample weights\n",
    "# It's important to not forget about weights because we have imbalanced data and not all \n",
    "# model and metrics use weights without command\n",
    "def retrun_sample_weight(y_test):\n",
    "    return class_weight.compute_sample_weight(\n",
    "    class_weight={0: 1, 1: round((y == 0).sum() / (y == 1).sum())},\n",
    "    y = y_test\n",
    ")"
   ]
  },
  {
   "cell_type": "code",
   "execution_count": 30,
   "metadata": {},
   "outputs": [],
   "source": [
    "# Building pipelines for model selection\n",
    "\n",
    "pipeline_lr=Pipeline([(\"scaler1\",StandardScaler()),\n",
    "                      (\"LR\",LogisticRegressionCV(class_weight='balanced'))])\n",
    "\n",
    "pipeline_rf=Pipeline([(\"scaler2\",StandardScaler()),\n",
    "                      (\"RF\",RandomForestClassifier(class_weight='balanced'))])\n",
    "\n",
    "pipeline_knn=Pipeline([(\"scaler3\",StandardScaler()),\n",
    "                       (\"pca1\",PCA(n_components=40)),\n",
    "                       (\"KNN\",KNeighborsClassifier(n_neighbors=5, weights='distance'))])\n",
    "\n",
    "pipeline_xgb=Pipeline([(\"XGB\",XGBClassifier(scale_pos_weight = (y == 0).sum() / (y == 1).sum()))])\n",
    "\n",
    "pipeline_cat=Pipeline([(\"CatBoost\",CatBoostClassifier(auto_class_weights='Balanced', silent=True))])\n",
    "\n",
    "# List of all the pipelines\n",
    "pipelines = [pipeline_lr, pipeline_rf, pipeline_knn, pipeline_xgb, pipeline_cat]\n",
    "pipe_dict = {0: \"LogisticRegression\", 1: \"RandomForest\", 2: \"KNeighbors\", 3: \"XGBClassifier\", 4: \"CatBoostClassifier\"}"
   ]
  },
  {
   "cell_type": "code",
   "execution_count": 31,
   "metadata": {},
   "outputs": [
    {
     "name": "stdout",
     "output_type": "stream",
     "text": [
      "LogisticRegression: 0.550861 \n",
      "RandomForest: 0.727273 \n",
      "KNeighbors: 0.578512 \n",
      "XGBClassifier: 0.860390 \n",
      "CatBoostClassifier: 0.858025 \n"
     ]
    }
   ],
   "source": [
    "for pipe in pipelines:\n",
    "    pipe.fit(X_train, y_train)\n",
    "    \n",
    "results = []\n",
    "for i, model in enumerate(pipelines):\n",
    "    y_pred = model.predict(X_test)\n",
    "    f1 = f1_score(y_test, y_pred) #, sample_weight=retrun_sample_weight(y_test))\n",
    "    results.append(f1)\n",
    "    print(\"%s: %f \" % (pipe_dict[i], f1))\n",
    "\n",
    "# I choosed f1-score as a parameter to balance between precision and recall, so to maximize\n",
    "# chance that you will not take some realy risk challenge, but at the same time not miss a simple one\n",
    "# CatBoostClassifier shows a better performance than other models, so will do gridsearch for it\n",
    "# Also XGBClassifier shows good performance, so may explore it too"
   ]
  },
  {
   "cell_type": "code",
   "execution_count": 32,
   "metadata": {},
   "outputs": [
    {
     "name": "stdout",
     "output_type": "stream",
     "text": [
      "Fitting 5 folds for each of 144 candidates, totalling 720 fits\n",
      "Best Parameters: {'learning_rate': 0.2, 'max_depth': 5, 'n_estimators': 500, 'reg_lambda': 1}\n",
      "Best Score: 0.9825353251486364\n"
     ]
    }
   ],
   "source": [
    "# Let's start with XGBClassifier. Just because it's some standard and simple grid search\n",
    "# Choose parameters and its variants\n",
    "param_grid = {\n",
    "    'n_estimators': [100, 200, 500],\n",
    "    'max_depth': [3, 5, 7, 10],\n",
    "    'learning_rate': [0.01, 0.1, 0.2],\n",
    "    'reg_lambda': [0, 0.1, 1, 10]\n",
    "}\n",
    "\n",
    "# Initialize the XGBoost classifier\n",
    "xgb = XGBClassifier(objective='binary:logistic', eval_metric='logloss', \n",
    "                    scale_pos_weight = (y == 0).sum() / (y == 1).sum())\n",
    "\n",
    "# Set up GridSearchCV\n",
    "grid_search_xgb = GridSearchCV(\n",
    "    estimator=xgb,\n",
    "    param_grid=param_grid,\n",
    "    scoring='roc_auc',  # Use 'roc_auc' for imbalanced datasets\n",
    "    cv=5,  \n",
    "    n_jobs=-1,  \n",
    "    verbose=2\n",
    ")\n",
    "\n",
    "# Fit the model\n",
    "grid_search_xgb.fit(X_trains, y_trains)\n",
    "\n",
    "# Best parameters and score\n",
    "print(\"Best Parameters:\", grid_search_xgb.best_params_)\n",
    "print(\"Best Score:\", grid_search_xgb.best_score_)"
   ]
  },
  {
   "cell_type": "code",
   "execution_count": 33,
   "metadata": {},
   "outputs": [
    {
     "name": "stdout",
     "output_type": "stream",
     "text": [
      "              precision    recall  f1-score   support\n",
      "\n",
      "           0       0.97      0.95      0.96       616\n",
      "           1       0.85      0.90      0.88       184\n",
      "\n",
      "    accuracy                           0.94       800\n",
      "   macro avg       0.91      0.93      0.92       800\n",
      "weighted avg       0.94      0.94      0.94       800\n",
      "\n"
     ]
    }
   ],
   "source": [
    "# Get predictions from best model and plot classification report\n",
    "y_pred_xgb = grid_search_xgb.predict(X_valid)\n",
    "print(classification_report(y_valid, y_pred_xgb))"
   ]
  },
  {
   "cell_type": "code",
   "execution_count": 34,
   "metadata": {},
   "outputs": [
    {
     "data": {
      "text/plain": [
       "<sklearn.metrics._plot.roc_curve.RocCurveDisplay at 0x17c9011b6d0>"
      ]
     },
     "execution_count": 34,
     "metadata": {},
     "output_type": "execute_result"
    },
    {
     "data": {
      "image/png": "[encoded data removed]",
      "text/plain": [
       "<Figure size 640x480 with 1 Axes>"
      ]
     },
     "metadata": {},
     "output_type": "display_data"
    }
   ],
   "source": [
    "# Plot ROC curve and count AUC. The closer its for 1 the better is model. \n",
    "# Way to undestand is our model is good in balancing True Positive and False Positive\n",
    "RocCurveDisplay.from_estimator(grid_search_xgb, X_valid, y_valid, pos_label=grid_search_xgb.classes_[1])"
   ]
  },
  {
   "cell_type": "code",
   "execution_count": 35,
   "metadata": {},
   "outputs": [
    {
     "data": {
      "text/plain": [
       "<sklearn.metrics._plot.precision_recall_curve.PrecisionRecallDisplay at 0x17c8ff1cd50>"
      ]
     },
     "execution_count": 35,
     "metadata": {},
     "output_type": "execute_result"
    },
    {
     "data": {
      "image/png": "[encoded data removed]",
      "text/plain": [
       "<Figure size 640x480 with 1 Axes>"
      ]
     },
     "metadata": {},
     "output_type": "display_data"
    }
   ],
   "source": [
    "# Because we have imbalanced data let's plot also precision-recall curve\n",
    "# It's more reseprentative for imbalanced classes. And we see area under the curve for this one\n",
    "# is less than for ROC curve. But still good enough\n",
    "PrecisionRecallDisplay.from_estimator(grid_search_xgb, X_valid, y_valid)"
   ]
  },
  {
   "cell_type": "code",
   "execution_count": 36,
   "metadata": {},
   "outputs": [],
   "source": [
    "# Now let's explore catboost"
   ]
  },
  {
   "cell_type": "code",
   "execution_count": 37,
   "metadata": {},
   "outputs": [],
   "source": [
    "# Graphics style change"
   ]
  },
  {
   "cell_type": "code",
   "execution_count": 38,
   "metadata": {},
   "outputs": [
    {
     "data": {
      "text/html": [
       "<style>\n",
       ".catboost {\n",
       "    filter: invert(1);\n",
       "    color: black;\n",
       "    background-color: white;\n",
       "}\n",
       "</style>\n"
      ],
      "text/plain": [
       "<IPython.core.display.HTML object>"
      ]
     },
     "metadata": {},
     "output_type": "display_data"
    }
   ],
   "source": [
    "%%html\n",
    "<style>\n",
    ".catboost {\n",
    "    filter: invert(1);\n",
    "    color: black;\n",
    "    background-color: white;\n",
    "}\n",
    "</style>"
   ]
  },
  {
   "cell_type": "code",
   "execution_count": 39,
   "metadata": {},
   "outputs": [],
   "source": [
    "# Firsty, CatBoost doesn't need all this categorical features preparations. He may do it automatically,\n",
    "# with just knowledge which column is categorical. \n",
    "# But I already did all preparation and compare model on the same dataset and samples. \n",
    "# So I won't change data preprocessing, but in future it may be something to explore"
   ]
  },
  {
   "cell_type": "code",
   "execution_count": 40,
   "metadata": {},
   "outputs": [
    {
     "data": {
      "application/vnd.jupyter.widget-view+json": {
       "model_id": "3fd04bc07aae479893b78fe6b936c520",
       "version_major": 2,
       "version_minor": 0
      },
      "text/plain": [
       "MetricVisualizer(layout=Layout(align_self='stretch', height='500px'))"
      ]
     },
     "metadata": {},
     "output_type": "display_data"
    }
   ],
   "source": [
    "# First attempt\n",
    "# CatBoost has option to plot testing result in real time\n",
    "# Actually the best iteration is before 400, so we don't need all this iterations\n",
    "# For such a small dataset it's not such a big problem, but it may be long for large \n",
    "# datasets or cause overfitting(?)\n",
    "cat1 = CatBoostClassifier(\n",
    "    loss_function='Logloss',\n",
    "    eval_metric= 'F1',\n",
    "    auto_class_weights='Balanced',\n",
    "    logging_level='Silent'\n",
    ")\n",
    "\n",
    "cat1.fit(\n",
    "    X_train, y_train,\n",
    "    eval_set=(X_test, y_test),\n",
    "    # logging_level='Verbose',  \n",
    "    plot=True\n",
    ");"
   ]
  },
  {
   "cell_type": "code",
   "execution_count": 41,
   "metadata": {},
   "outputs": [
    {
     "data": {
      "application/vnd.jupyter.widget-view+json": {
       "model_id": "07d4226c958a48f593b40d6bf1b8808b",
       "version_major": 2,
       "version_minor": 0
      },
      "text/plain": [
       "MetricVisualizer(layout=Layout(align_self='stretch', height='500px'))"
      ]
     },
     "metadata": {},
     "output_type": "display_data"
    }
   ],
   "source": [
    "# Let's use the best model and stop our training earlier, if don't have progress in 50 iterations\n",
    "# This model will use less trees\n",
    "cat2 = CatBoostClassifier(\n",
    "    loss_function='Logloss',\n",
    "    eval_metric= metrics.F1(),\n",
    "    auto_class_weights='Balanced',\n",
    "    logging_level='Silent',\n",
    "    iterations=1000,\n",
    "    use_best_model=True,\n",
    "    od_type='Iter',\n",
    "    od_wait=50\n",
    ")\n",
    "\n",
    "cat2.fit(\n",
    "    X_train, y_train,\n",
    "    eval_set=(X_test, y_test), \n",
    "    plot=True\n",
    ");"
   ]
  },
  {
   "cell_type": "code",
   "execution_count": 42,
   "metadata": {},
   "outputs": [
    {
     "name": "stdout",
     "output_type": "stream",
     "text": [
      "              precision    recall  f1-score   support\n",
      "\n",
      "           0       0.98      0.92      0.95      1138\n",
      "           1       0.75      0.93      0.83       302\n",
      "\n",
      "    accuracy                           0.92      1440\n",
      "   macro avg       0.87      0.93      0.89      1440\n",
      "weighted avg       0.93      0.92      0.92      1440\n",
      "\n"
     ]
    }
   ],
   "source": [
    "# Now get predictions and classification report for f1_score for class_1\n",
    "y_pred = cat2.predict(X_test)\n",
    "print(classification_report(y_test, y_pred))"
   ]
  },
  {
   "cell_type": "code",
   "execution_count": 43,
   "metadata": {},
   "outputs": [],
   "source": [
    "# Wait, what?\n",
    "# In classification report we have f1 score for both class, but none of them is 0.91 - number on training plot\n",
    "# Actually, it because we use weights for CatBoostClassifier. It automatically count f1 score\n",
    "# with those wweights.\n",
    "# In all other characteristics calculation we need to choose weights manually."
   ]
  },
  {
   "cell_type": "code",
   "execution_count": 44,
   "metadata": {},
   "outputs": [
    {
     "name": "stdout",
     "output_type": "stream",
     "text": [
      "              precision    recall  f1-score   support\n",
      "\n",
      "           0       0.93      0.92      0.92    1138.0\n",
      "           1       0.92      0.93      0.93    1208.0\n",
      "\n",
      "    accuracy                           0.93    2346.0\n",
      "   macro avg       0.93      0.93      0.93    2346.0\n",
      "weighted avg       0.93      0.93      0.93    2346.0\n",
      "\n"
     ]
    }
   ],
   "source": [
    "# With usage of weights we get the same result for both classes. But know support is not rows quantity, \n",
    "# but samples with weights\n",
    "print(classification_report(y_test, y_pred, sample_weight=retrun_sample_weight(y_test)))"
   ]
  },
  {
   "cell_type": "code",
   "execution_count": 45,
   "metadata": {},
   "outputs": [],
   "source": [
    "# Whitout using sample weights we may see in classification report the actual distribution \n",
    "# of the data, not hte weighted version. All this metrics already defined for exact class, \n",
    "# so it's a bit irrational to calculate their weighted versions.\n",
    "# Also we used weights on training to show model, that important class is smaller, so why \n",
    "# use them for evaluation\n",
    "# But the most simple reason is that it's simplier to interpret results without weights on metrics\n",
    "# If you calculate metrics on yourown from confusion matrix, you will get version with no weigths"
   ]
  },
  {
   "cell_type": "code",
   "execution_count": 46,
   "metadata": {},
   "outputs": [
    {
     "data": {
      "application/vnd.jupyter.widget-view+json": {
       "model_id": "b2617ca90ce04aaf82e15fcf75c3bfbf",
       "version_major": 2,
       "version_minor": 0
      },
      "text/plain": [
       "MetricVisualizer(layout=Layout(align_self='stretch', height='500px'))"
      ]
     },
     "metadata": {},
     "output_type": "display_data"
    },
    {
     "name": "stdout",
     "output_type": "stream",
     "text": [
      "              precision    recall  f1-score   support\n",
      "\n",
      "           0       0.98      0.95      0.97      1138\n",
      "           1       0.84      0.92      0.88       302\n",
      "\n",
      "    accuracy                           0.95      1440\n",
      "   macro avg       0.91      0.94      0.92      1440\n",
      "weighted avg       0.95      0.95      0.95      1440\n",
      "\n"
     ]
    }
   ],
   "source": [
    "# We may change f1 in CatBoost to get the same result on plot as in the classification report\n",
    "cat3 = CatBoostClassifier(\n",
    "    loss_function='Logloss',\n",
    "    eval_metric= metrics.F1(use_weights=False),\n",
    "    auto_class_weights='Balanced',\n",
    "    logging_level='Silent',\n",
    "    iterations=1000,\n",
    "    use_best_model=True,\n",
    "    od_type='Iter',\n",
    "    od_wait=50\n",
    ")\n",
    "\n",
    "cat3.fit(\n",
    "    X_train, y_train,\n",
    "    eval_set=(X_test, y_test), \n",
    "    plot=True\n",
    ");\n",
    "\n",
    "y_pred = cat3.predict(X_test)\n",
    "print(classification_report(y_test, y_pred))"
   ]
  },
  {
   "cell_type": "code",
   "execution_count": 47,
   "metadata": {},
   "outputs": [],
   "source": [
    "# Note! CatBoost doesn't like that I turned off sample weights for evaluation metric. For \n",
    "# simple training it's still work. But with cross validation it wil show an error. So to compare model\n",
    "# with using cross validation on CatBoost sample weights needed everywhere"
   ]
  },
  {
   "cell_type": "code",
   "execution_count": 48,
   "metadata": {},
   "outputs": [
    {
     "name": "stdout",
     "output_type": "stream",
     "text": [
      "Fitting 5 folds for each of 108 candidates, totalling 540 fits\n",
      "Best Parameters: {'iterations': 400, 'l2_leaf_reg': 3, 'learning_rate': 0.2, 'max_depth': 4}\n",
      "Best Score: 0.9863988174371169\n"
     ]
    }
   ],
   "source": [
    "param_grid = {\n",
    "    'iterations': [100, 200, 400],\n",
    "    'max_depth': [4, 6, 8],\n",
    "    'learning_rate': [0.01, 0.1, 0.2],\n",
    "    'l2_leaf_reg': [1, 3, 5, 10]\n",
    "}\n",
    "\n",
    "# Initialize the CatBoost classifier\n",
    "cat = CatBoostClassifier(eval_metric=metrics.F1(use_weights=False),\n",
    "    verbose=False, loss_function=metrics.Logloss(),\n",
    "    auto_class_weights='Balanced'\n",
    ")\n",
    "\n",
    "# Set up GridSearchCV\n",
    "grid_search_cat = GridSearchCV(\n",
    "    estimator=cat,\n",
    "    param_grid=param_grid,\n",
    "    scoring='roc_auc', \n",
    "    cv=5,  \n",
    "    n_jobs=-1,  \n",
    "    verbose=2\n",
    ")\n",
    "\n",
    "# Fit the model\n",
    "grid_search_cat.fit(X_trains, y_trains)\n",
    "\n",
    "# Best parameters and score\n",
    "print(\"Best Parameters:\", grid_search_cat.best_params_)\n",
    "print(\"Best Score:\", grid_search_cat.best_score_)"
   ]
  },
  {
   "cell_type": "code",
   "execution_count": 49,
   "metadata": {},
   "outputs": [
    {
     "name": "stdout",
     "output_type": "stream",
     "text": [
      "              precision    recall  f1-score   support\n",
      "\n",
      "           0       0.98      0.94      0.96       616\n",
      "           1       0.81      0.93      0.87       184\n",
      "\n",
      "    accuracy                           0.93       800\n",
      "   macro avg       0.89      0.93      0.91       800\n",
      "weighted avg       0.94      0.93      0.94       800\n",
      "\n"
     ]
    }
   ],
   "source": [
    "# It's good but still worse than xgboost\n",
    "y_pred_cat = grid_search_cat.predict(X_valid)\n",
    "print(classification_report(y_valid, y_pred_cat))"
   ]
  },
  {
   "cell_type": "code",
   "execution_count": 50,
   "metadata": {},
   "outputs": [
    {
     "data": {
      "text/plain": [
       "<sklearn.metrics._plot.precision_recall_curve.PrecisionRecallDisplay at 0x17c8f695350>"
      ]
     },
     "execution_count": 50,
     "metadata": {},
     "output_type": "execute_result"
    },
    {
     "data": {
      "image/png": "[encoded data removed]",
      "text/plain": [
       "<Figure size 640x480 with 1 Axes>"
      ]
     },
     "metadata": {},
     "output_type": "display_data"
    }
   ],
   "source": [
    "PrecisionRecallDisplay.from_estimator(grid_search_cat, X_valid, y_valid)"
   ]
  },
  {
   "cell_type": "code",
   "execution_count": 51,
   "metadata": {},
   "outputs": [],
   "source": [
    "# \"Сложность\" and \"Опыт\" are the most important features that we had. That's actually logical,\n",
    "# we have those parameters in every turn, but the other contains runes, so have now six features for one original column\n",
    "# Will be more intresting to watch on features importances if I didn't use dummy variables it's possible for CatBoost"
   ]
  },
  {
   "cell_type": "code",
   "execution_count": 52,
   "metadata": {},
   "outputs": [],
   "source": [
    "features = pd.DataFrame(index=X.columns,data=grid_search_cat.best_estimator_.feature_importances_,\n",
    "                        columns=['Feature Importance']).sort_values('Feature Importance',ascending=False)"
   ]
  },
  {
   "cell_type": "code",
   "execution_count": 53,
   "metadata": {},
   "outputs": [
    {
     "data": {
      "image/png": "[encoded data removed]",
      "text/plain": [
       "<Figure size 1000x600 with 1 Axes>"
      ]
     },
     "metadata": {},
     "output_type": "display_data"
    }
   ],
   "source": [
    "feats = pd.Series(index=X.columns,data=features['Feature Importance'])\n",
    "feats = feats.sort_values()\n",
    "plt.figure(figsize=(10,6))\n",
    "sns.barplot(x=feats.index,y=feats.values)\n",
    "plt.xticks(rotation=90);"
   ]
  },
  {
   "cell_type": "code",
   "execution_count": 59,
   "metadata": {},
   "outputs": [
    {
     "data": {
      "text/html": [
       "<style>#sk-container-id-2 {color: black;}#sk-container-id-2 pre{padding: 0;}#sk-container-id-2 div.sk-toggleable {background-color: white;}#sk-container-id-2 label.sk-toggleable__label {cursor: pointer;display: block;width: 100%;margin-bottom: 0;padding: 0.3em;box-sizing: border-box;text-align: center;}#sk-container-id-2 label.sk-toggleable__label-arrow:before {content: \"▸\";float: left;margin-right: 0.25em;color: #696969;}#sk-container-id-2 label.sk-toggleable__label-arrow:hover:before {color: black;}#sk-container-id-2 div.sk-estimator:hover label.sk-toggleable__label-arrow:before {color: black;}#sk-container-id-2 div.sk-toggleable__content {max-height: 0;max-width: 0;overflow: hidden;text-align: left;background-color: #f0f8ff;}#sk-container-id-2 div.sk-toggleable__content pre {margin: 0.2em;color: black;border-radius: 0.25em;background-color: #f0f8ff;}#sk-container-id-2 input.sk-toggleable__control:checked~div.sk-toggleable__content {max-height: 200px;max-width: 100%;overflow: auto;}#sk-container-id-2 input.sk-toggleable__control:checked~label.sk-toggleable__label-arrow:before {content: \"▾\";}#sk-container-id-2 div.sk-estimator input.sk-toggleable__control:checked~label.sk-toggleable__label {background-color: #d4ebff;}#sk-container-id-2 div.sk-label input.sk-toggleable__control:checked~label.sk-toggleable__label {background-color: #d4ebff;}#sk-container-id-2 input.sk-hidden--visually {border: 0;clip: rect(1px 1px 1px 1px);clip: rect(1px, 1px, 1px, 1px);height: 1px;margin: -1px;overflow: hidden;padding: 0;position: absolute;width: 1px;}#sk-container-id-2 div.sk-estimator {font-family: monospace;background-color: #f0f8ff;border: 1px dotted black;border-radius: 0.25em;box-sizing: border-box;margin-bottom: 0.5em;}#sk-container-id-2 div.sk-estimator:hover {background-color: #d4ebff;}#sk-container-id-2 div.sk-parallel-item::after {content: \"\";width: 100%;border-bottom: 1px solid gray;flex-grow: 1;}#sk-container-id-2 div.sk-label:hover label.sk-toggleable__label {background-color: #d4ebff;}#sk-container-id-2 div.sk-serial::before {content: \"\";position: absolute;border-left: 1px solid gray;box-sizing: border-box;top: 0;bottom: 0;left: 50%;z-index: 0;}#sk-container-id-2 div.sk-serial {display: flex;flex-direction: column;align-items: center;background-color: white;padding-right: 0.2em;padding-left: 0.2em;position: relative;}#sk-container-id-2 div.sk-item {position: relative;z-index: 1;}#sk-container-id-2 div.sk-parallel {display: flex;align-items: stretch;justify-content: center;background-color: white;position: relative;}#sk-container-id-2 div.sk-item::before, #sk-container-id-2 div.sk-parallel-item::before {content: \"\";position: absolute;border-left: 1px solid gray;box-sizing: border-box;top: 0;bottom: 0;left: 50%;z-index: -1;}#sk-container-id-2 div.sk-parallel-item {display: flex;flex-direction: column;z-index: 1;position: relative;background-color: white;}#sk-container-id-2 div.sk-parallel-item:first-child::after {align-self: flex-end;width: 50%;}#sk-container-id-2 div.sk-parallel-item:last-child::after {align-self: flex-start;width: 50%;}#sk-container-id-2 div.sk-parallel-item:only-child::after {width: 0;}#sk-container-id-2 div.sk-dashed-wrapped {border: 1px dashed gray;margin: 0 0.4em 0.5em 0.4em;box-sizing: border-box;padding-bottom: 0.4em;background-color: white;}#sk-container-id-2 div.sk-label label {font-family: monospace;font-weight: bold;display: inline-block;line-height: 1.2em;}#sk-container-id-2 div.sk-label-container {text-align: center;}#sk-container-id-2 div.sk-container {/* jupyter's `normalize.less` sets `[hidden] { display: none; }` but bootstrap.min.css set `[hidden] { display: none !important; }` so we also need the `!important` here to be able to override the default hidden behavior on the sphinx rendered scikit-learn.org. See: https://github.com/scikit-learn/scikit-learn/issues/21755 */display: inline-block !important;position: relative;}#sk-container-id-2 div.sk-text-repr-fallback {display: none;}</style><div id=\"sk-container-id-2\" class=\"sk-top-container\"><div class=\"sk-text-repr-fallback\"><pre>XGBClassifier(base_score=None, booster=None, callbacks=None,\n",
       "              colsample_bylevel=None, colsample_bynode=None,\n",
       "              colsample_bytree=None, device=None, early_stopping_rounds=None,\n",
       "              enable_categorical=False, eval_metric=&#x27;logloss&#x27;,\n",
       "              feature_types=None, gamma=None, grow_policy=None,\n",
       "              importance_type=None, interaction_constraints=None,\n",
       "              learning_rate=0.2, max_bin=None, max_cat_threshold=None,\n",
       "              max_cat_to_onehot=None, max_delta_step=None, max_depth=5,\n",
       "              max_leaves=None, min_child_weight=None, missing=nan,\n",
       "              monotone_constraints=None, multi_strategy=None, n_estimators=500,\n",
       "              n_jobs=None, num_parallel_tree=None, random_state=None, ...)</pre><b>In a Jupyter environment, please rerun this cell to show the HTML representation or trust the notebook. <br />On GitHub, the HTML representation is unable to render, please try loading this page with nbviewer.org.</b></div><div class=\"sk-container\" hidden><div class=\"sk-item\"><div class=\"sk-estimator sk-toggleable\"><input class=\"sk-toggleable__control sk-hidden--visually\" id=\"sk-estimator-id-2\" type=\"checkbox\" checked><label for=\"sk-estimator-id-2\" class=\"sk-toggleable__label sk-toggleable__label-arrow\">XGBClassifier</label><div class=\"sk-toggleable__content\"><pre>XGBClassifier(base_score=None, booster=None, callbacks=None,\n",
       "              colsample_bylevel=None, colsample_bynode=None,\n",
       "              colsample_bytree=None, device=None, early_stopping_rounds=None,\n",
       "              enable_categorical=False, eval_metric=&#x27;logloss&#x27;,\n",
       "              feature_types=None, gamma=None, grow_policy=None,\n",
       "              importance_type=None, interaction_constraints=None,\n",
       "              learning_rate=0.2, max_bin=None, max_cat_threshold=None,\n",
       "              max_cat_to_onehot=None, max_delta_step=None, max_depth=5,\n",
       "              max_leaves=None, min_child_weight=None, missing=nan,\n",
       "              monotone_constraints=None, multi_strategy=None, n_estimators=500,\n",
       "              n_jobs=None, num_parallel_tree=None, random_state=None, ...)</pre></div></div></div></div></div>"
      ],
      "text/plain": [
       "XGBClassifier(base_score=None, booster=None, callbacks=None,\n",
       "              colsample_bylevel=None, colsample_bynode=None,\n",
       "              colsample_bytree=None, device=None, early_stopping_rounds=None,\n",
       "              enable_categorical=False, eval_metric='logloss',\n",
       "              feature_types=None, gamma=None, grow_policy=None,\n",
       "              importance_type=None, interaction_constraints=None,\n",
       "              learning_rate=0.2, max_bin=None, max_cat_threshold=None,\n",
       "              max_cat_to_onehot=None, max_delta_step=None, max_depth=5,\n",
       "              max_leaves=None, min_child_weight=None, missing=nan,\n",
       "              monotone_constraints=None, multi_strategy=None, n_estimators=500,\n",
       "              n_jobs=None, num_parallel_tree=None, random_state=None, ...)"
      ]
     },
     "execution_count": 59,
     "metadata": {},
     "output_type": "execute_result"
    }
   ],
   "source": [
    "final_model = XGBClassifier(learning_rate=0.2, max_depth=5, n_estimators=500,\n",
    "                           objective='binary:logistic', reg_lambda=1,\n",
    "                           eval_metric='logloss', scale_pos_weight = (y == 0).sum() / (y == 1).sum())\n",
    "final_model.fit(X, y)"
   ]
  },
  {
   "cell_type": "code",
   "execution_count": 60,
   "metadata": {},
   "outputs": [],
   "source": [
    "# Save final version of our model \n",
    "final_model.save_model(\"xgboost_model.json\")"
   ]
  },
  {
   "cell_type": "code",
   "execution_count": 56,
   "metadata": {},
   "outputs": [],
   "source": [
    "# Train final version of our model on all dataset\n",
    "# final_model = CatBoostClassifier(\n",
    "#     loss_function='Logloss',\n",
    "#     eval_metric= metrics.F1(use_weights=False),\n",
    "#     auto_class_weights='Balanced',\n",
    "#     logging_level='Silent',\n",
    "#     iterations=400, \n",
    "#     l2_leaf_reg=10,\n",
    "#     learning_rate=0.2, \n",
    "#     max_depth=4\n",
    "# )\n",
    "\n",
    "# final_model.fit(\n",
    "#     X, y,\n",
    "#     plot=True\n",
    "# );\n"
   ]
  },
  {
   "cell_type": "code",
   "execution_count": 57,
   "metadata": {},
   "outputs": [],
   "source": [
    "# final_model.save_model('catboost_model.bin')"
   ]
  },
  {
   "cell_type": "code",
   "execution_count": 58,
   "metadata": {},
   "outputs": [],
   "source": [
    "# Look another file to find a usage of this model) "
   ]
  }
 ],
 "metadata": {
  "kernelspec": {
   "display_name": "Python 3",
   "language": "python",
   "name": "python3"
  },
  "language_info": {
   "codemirror_mode": {
    "name": "ipython",
    "version": 3
   },
   "file_extension": ".py",
   "mimetype": "text/x-python",
   "name": "python",
   "nbconvert_exporter": "python",
   "pygments_lexer": "ipython3",
   "version": "3.11.6"
  }
 },
 "nbformat": 4,
 "nbformat_minor": 2
}
